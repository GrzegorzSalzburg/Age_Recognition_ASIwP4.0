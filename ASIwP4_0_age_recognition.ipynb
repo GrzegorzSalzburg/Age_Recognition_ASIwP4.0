{
  "cells": [
    {
      "cell_type": "markdown",
      "source": [
        "# **Przygotowywanie środowiska**"
      ],
      "metadata": {
        "id": "-6rGd_Ue9hMG"
      }
    },
    {
      "cell_type": "code",
      "execution_count": null,
      "metadata": {
        "id": "-1CvMPFSCnEq"
      },
      "outputs": [],
      "source": [
        "import matplotlib.image as image\n",
        "import matplotlib.pyplot as plt\n",
        "import numpy as np\n",
        "import zipfile as zp\n",
        "import os\n",
        "import pandas as pd\n",
        "import torch\n",
        "from tqdm.notebook import tqdm\n",
        "\n",
        "from torchvision import datasets, transforms\n",
        "from torch.utils.data import DataLoader\n",
        "import torchvision\n",
        "import torchvision.transforms as transforms\n",
        "import torch.nn as nn\n",
        "import torch.nn.functional as F\n",
        "from sklearn.model_selection import train_test_split"
      ]
    },
    {
      "cell_type": "code",
      "execution_count": null,
      "metadata": {
        "id": "5HNMand3ue6c",
        "colab": {
          "base_uri": "https://localhost:8080/"
        },
        "outputId": "901fc8fd-2b50-47d8-f98f-f9a17728ec64"
      },
      "outputs": [
        {
          "output_type": "stream",
          "name": "stdout",
          "text": [
            "Mounted at /content/drive\n"
          ]
        }
      ],
      "source": [
        "from google.colab import drive\n",
        "drive.mount('/content/drive')"
      ]
    },
    {
      "cell_type": "markdown",
      "metadata": {
        "id": "-ZqnQKf54XFc"
      },
      "source": [
        "# **Etykietowanie**"
      ]
    },
    {
      "cell_type": "code",
      "execution_count": null,
      "metadata": {
        "id": "8TX_6q1i4do4"
      },
      "outputs": [],
      "source": [
        "Faces_Dir = '/content/drive/MyDrive/ASIwP4_0_age_recognition/archive/UTKFace'"
      ]
    },
    {
      "cell_type": "code",
      "execution_count": null,
      "metadata": {
        "id": "I-Ada54B8M-3"
      },
      "outputs": [],
      "source": [
        "img_paths =[] #for multiple pictures\n",
        "age_labels = []\n",
        "\n",
        "for filename in tqdm(os.listdir(Faces_Dir)):\n",
        "  img_path = os.path.join(Faces_Dir, filename)\n",
        "  tmp = filename.split('_')\n",
        "  age = int(tmp[0])\n",
        "\n",
        "  age_labels.append(age)\n",
        "  img_paths.append(img_path)"
      ]
    },
    {
      "cell_type": "code",
      "execution_count": null,
      "metadata": {
        "id": "OTVV8Ki1-aRM"
      },
      "outputs": [],
      "source": [
        "data_frame = pd.DataFrame()\n",
        "data_frame['image'], data_frame['age']= img_paths, age_labels"
      ]
    },
    {
      "cell_type": "code",
      "execution_count": null,
      "metadata": {
        "id": "tJ0rCj-UBx0u"
      },
      "outputs": [],
      "source": [
        "data_frame.head"
      ]
    },
    {
      "cell_type": "markdown",
      "metadata": {
        "id": "ZS_QuiSw6Pzb"
      },
      "source": [
        "# **Przetwarzanie na zestaw cech**"
      ]
    },
    {
      "cell_type": "code",
      "execution_count": null,
      "metadata": {
        "id": "6_PkqGz36kiT"
      },
      "outputs": [],
      "source": [
        "def images_featuring(images):\n",
        "  features = []\n",
        "  for num in tqdm(range(images.size)):\n",
        "    img = torchvision.io.read_image(images[num],\n",
        "                                    torchvision.io.ImageReadMode.GRAY)\n",
        "    img = img.reshape((200, 200), 1)\n",
        "    img = img.numpy()\n",
        "    features.append(img)\n",
        "  features = np.array(features)\n",
        "  features = features.reshape(len(features), 200, 200, 1)\n",
        "\n",
        "  return features"
      ]
    },
    {
      "cell_type": "code",
      "execution_count": null,
      "metadata": {
        "id": "_8ubH7zvARMq"
      },
      "outputs": [],
      "source": [
        "X = images_featuring(data_frame['image'])"
      ]
    },
    {
      "cell_type": "code",
      "execution_count": null,
      "metadata": {
        "id": "uglIH3_POWTB"
      },
      "outputs": [],
      "source": [
        "# Normalizacja pix\n",
        "X = X/255.0"
      ]
    },
    {
      "cell_type": "code",
      "execution_count": null,
      "metadata": {
        "id": "zaUCQPEV6bAF"
      },
      "outputs": [],
      "source": [
        "# Przeniesienie tensora\n",
        "X = torch.Tensor(X).to(device).view(-1,200,200)"
      ]
    },
    {
      "cell_type": "code",
      "execution_count": null,
      "metadata": {
        "id": "sZgQmrnrK3-X"
      },
      "outputs": [],
      "source": [
        "# Wykorzystanie Cuda\n",
        "device = \"cuda\" if torch.cuda.is_available() else \"cpu\"\n",
        "device"
      ]
    },
    {
      "cell_type": "code",
      "execution_count": null,
      "metadata": {
        "id": "o9ZoOOLkp8iT"
      },
      "outputs": [],
      "source": [
        "# Wczytanie z drive\n",
        "X = np.load(\"/content/drive/MyDrive/Projekt_Zespołowy/X_np.npy\")"
      ]
    },
    {
      "cell_type": "code",
      "execution_count": null,
      "metadata": {
        "id": "mbnlsCdR-u7O"
      },
      "outputs": [],
      "source": [
        "# Przekształcenie np.array do tensora\n",
        "X = torch.Tensor(X)\n",
        "X[0]"
      ]
    },
    {
      "cell_type": "code",
      "execution_count": null,
      "metadata": {
        "id": "UwcjRNkTPGIb"
      },
      "outputs": [],
      "source": [
        "# Dane z DataFrame do tablicy\n",
        "y_age = np.array(data_frame['age'])"
      ]
    },
    {
      "cell_type": "markdown",
      "metadata": {
        "id": "tUzyL6E1pxNo"
      },
      "source": [
        "## **Funkcja do dokładności**"
      ]
    },
    {
      "cell_type": "code",
      "execution_count": null,
      "metadata": {
        "id": "m3W3H6W514wI"
      },
      "outputs": [],
      "source": [
        "def get_accuracy(model, X_test, y_test):\n",
        "  correct = 0\n",
        "  total = 0\n",
        "  with torch.no_grad():\n",
        "      for i in range(len(X_test)):\n",
        "          real_class = y_test[i]\n",
        "          net_out = model(X_test[i].to(device).view(-1, 1, 200, 200))[0]  # returns a list,\n",
        "          predicted_class = torch.argmax(net_out)\n",
        "\n",
        "          if predicted_class == real_class:\n",
        "              correct += 1\n",
        "          total += 1\n",
        "  return round(correct/total, 3)"
      ]
    },
    {
      "cell_type": "markdown",
      "metadata": {
        "id": "Bbcyold4qT9c"
      },
      "source": [
        "# **Estymacja wieku**"
      ]
    },
    {
      "cell_type": "code",
      "execution_count": null,
      "metadata": {
        "id": "jbzCSInLyBgw"
      },
      "outputs": [],
      "source": [
        "age_dictionary = {0:'(0-5>', 1:'(5-10>', 2:'(10-15>', 3:'(15-20>', 4:'(20-30>', 5:'(30-40>', 6:'(40-50', 7:'(50-70>', 8:'70+'}"
      ]
    },
    {
      "cell_type": "code",
      "execution_count": null,
      "metadata": {
        "id": "ho5lD_Biblia"
      },
      "outputs": [],
      "source": [
        "from math import tan\n",
        "#Setting age ranges\n",
        "#0 - 5, 5 - 10, 10 - 15, 15 - 20, 20 - 30, 30 - 40, 40 - 50, 50 - 70, 70+\n",
        "y_age_range = y_age\n",
        "\n",
        "count_inx_0 = 0\n",
        "count_inx_1 = 0\n",
        "count_inx_2 = 0\n",
        "count_inx_3 = 0\n",
        "count_inx_4 = 0\n",
        "count_inx_5 = 0\n",
        "count_inx_6 = 0\n",
        "count_inx_7 = 0\n",
        "count_inx_8 = 0\n",
        "\n",
        "limit = 1000\n",
        "\n",
        "for idx, age in np.ndenumerate(y_age_range):\n",
        "  if age <= 5:\n",
        "    count_inx_0 += 1\n",
        "    if count_inx_0 < limit:\n",
        "      y_age_range[idx] = 0\n",
        "      count1 += 1\n",
        "    else:\n",
        "      y_age_range[idx] = -1\n",
        "\n",
        "  elif age > 5 and age <= 10:\n",
        "    count_inx_1 += 1\n",
        "    if count_inx_1 < limit:\n",
        "      y_age_range[idx] = 1\n",
        "    else:\n",
        "      y_age_range[idx] = -1\n",
        "\n",
        "  elif age > 10 and age <= 15:\n",
        "    count_inx_2 += 1\n",
        "    if count_inx_2 < limit:\n",
        "      y_age_range[idx] = 2\n",
        "    else:\n",
        "      y_age_range[idx] = -1\n",
        "\n",
        "  elif age > 15 and age <= 20:\n",
        "    count_inx_3 += 1\n",
        "    if count_inx_3 < limit:\n",
        "      y_age_range[idx] = 3\n",
        "    else:\n",
        "      y_age_range[idx] = -1\n",
        "\n",
        "  elif age > 20 and age <= 30:\n",
        "    count_inx_4 += 1\n",
        "    if count_inx_4 < limit:\n",
        "      y_age_range[idx] = 4\n",
        "      count2 += 1\n",
        "    else:\n",
        "      y_age_range[idx] = -1\n",
        "\n",
        "  elif age > 30 and age <= 40:\n",
        "    count_inx_5 += 1\n",
        "    if count_inx_5 < limit:\n",
        "      y_age_range[idx] = 5\n",
        "    else:\n",
        "      y_age_range[idx] = -1\n",
        "\n",
        "  elif age > 40 and age <= 50:\n",
        "    count_inx_6 += 1\n",
        "    if count_inx_6 < limit:\n",
        "      y_age_range[idx] = 6\n",
        "    else:\n",
        "      y_age_range[idx] = -1\n",
        "\n",
        "  elif age > 50 and age <= 70:\n",
        "    count_inx_7 += 1\n",
        "    if count_inx_7 < limit:\n",
        "      y_age_range[idx] = 7\n",
        "    else:\n",
        "      y_age_range[idx] = -1\n",
        "\n",
        "  elif age > 70:\n",
        "    count_inx_8 += 1\n",
        "    if count_inx_8 < limit:\n",
        "      y_age_range[idx] = 8\n",
        "      count3 += 1\n",
        "    else:\n",
        "      y_age_range[idx] = -1\n"
      ]
    },
    {
      "cell_type": "code",
      "execution_count": null,
      "metadata": {
        "id": "yuJdUCx7X7AZ"
      },
      "outputs": [],
      "source": [
        "# Usuwanie elementów, które nie weszły (index -1)\n",
        "y_age_range_ = y_age_range\n",
        "indexes_out = []\n",
        "a = 0\n",
        "for idx, num in np.ndenumerate(y_age_range_):\n",
        "  if num == -1:\n",
        "    indexes_out.append(idx)\n",
        "len(indexes_out)"
      ]
    },
    {
      "cell_type": "code",
      "execution_count": null,
      "metadata": {
        "id": "owTt3GNLbftY"
      },
      "outputs": [],
      "source": [
        "# Usuwanie indeksów z y\n",
        "y_age_no_out = np.delete(y_age_range_, indexes_out)\n",
        "\n",
        "y_age_no_out"
      ]
    },
    {
      "cell_type": "code",
      "execution_count": null,
      "metadata": {
        "id": "eqg-yovda5Xr"
      },
      "outputs": [],
      "source": [
        "#  Usuwanie tych samych indeksów z x\n",
        "X_ = X\n",
        "X_no_out = np.delete(X_, indexes_out, 0)\n",
        "X_no_out.shape"
      ]
    },
    {
      "cell_type": "code",
      "execution_count": null,
      "metadata": {
        "id": "vA9poUGj9C2f"
      },
      "outputs": [],
      "source": [
        "# Wykres rozkładu\n",
        "import seaborn as sns\n",
        "sns.countplot(x = y_age_no_out)"
      ]
    },
    {
      "cell_type": "code",
      "execution_count": null,
      "metadata": {
        "id": "QTNFVZml3I-2"
      },
      "outputs": [],
      "source": [
        "# Zwolnienie pamięci zaalokowej dla X\n",
        "import gc\n",
        "del(X)\n",
        "gc.collect()"
      ]
    },
    {
      "cell_type": "code",
      "execution_count": null,
      "metadata": {
        "id": "WFbQn3ULqdH3"
      },
      "outputs": [],
      "source": [
        "# Podział zbioru\n",
        "Xage_train, Xage_test, yage_train, yage_test = train_test_split(X_no_out, y_age_no_out,\n",
        "                                                    test_size = 0.2,\n",
        "                                                    random_state = 4)\n",
        "yage_train[:10]"
      ]
    },
    {
      "cell_type": "code",
      "execution_count": null,
      "metadata": {
        "id": "bhvApTXt3RFX"
      },
      "outputs": [],
      "source": [
        "# Zwolnienie pamięci zaalokowej dla X_no_out\n",
        "import gc\n",
        "del(X_no_out)\n",
        "gc.collect()"
      ]
    },
    {
      "cell_type": "code",
      "execution_count": null,
      "metadata": {
        "id": "3aV4rBnUq8jy"
      },
      "outputs": [],
      "source": [
        "#  Operację kodowania kategorycznych danych \"one hot encoding\"\n",
        "yage_train_hot = []\n",
        "\n",
        "for i in yage_train:\n",
        "  yage_train_hot.append(np.eye(9)[i])\n",
        "\n",
        "yage_train_hot[:10]"
      ]
    },
    {
      "cell_type": "code",
      "execution_count": null,
      "metadata": {
        "id": "srKGMRZLrGtW"
      },
      "outputs": [],
      "source": [
        "# Sieć\n",
        "class ConvolutionalNetwork_age(nn.Module):\n",
        "    def __init__(self):\n",
        "        super().__init__()\n",
        "        self.conv1 = nn.Conv2d(1,  50, 3, 1)\n",
        "        self.conv2 = nn.Conv2d(50, 100, 3, 1)\n",
        "        self.conv3 = nn.Conv2d(100, 150, 3, 1)\n",
        "        self.conv4 = nn.Conv2d(150, 200, 3, 1)\n",
        "        self.fc1 = nn.Linear(10*10*200, 3000) #(((((200-2)/2)-2))/2)-2))/2) = 23,.. (4->10)\n",
        "        self.fc2 = nn.Linear(3000, 300)\n",
        "        self.fc3 = nn.Linear(300,9) #9-liczba klas wieków\n",
        "\n",
        "    def forward(self, X):\n",
        "        X = F.relu(self.conv1(X))\n",
        "        X = F.max_pool2d(X, 2, 2)\n",
        "        X = F.relu(self.conv2(X))\n",
        "        X = F.max_pool2d(X, 2, 2)\n",
        "        X = F.relu(self.conv3(X))\n",
        "        X = F.max_pool2d(X, 2, 2)\n",
        "        X = F.relu(self.conv4(X))\n",
        "        X = F.max_pool2d(X, 2, 2)\n",
        "        X = X.view(-1, 10*10*200)\n",
        "        X = F.relu(self.fc1(X))\n",
        "        X = F.relu(self.fc2(X))\n",
        "        X = self.fc3(X)\n",
        "        return F.softmax(X, dim=1)"
      ]
    },
    {
      "cell_type": "code",
      "execution_count": null,
      "metadata": {
        "id": "XuhhAyZDrgsW"
      },
      "outputs": [],
      "source": [
        "model_age = ConvolutionalNetwork_age().to(device)\n",
        "model_age"
      ]
    },
    {
      "cell_type": "code",
      "execution_count": null,
      "metadata": {
        "id": "zDQ-KGvbrmuV"
      },
      "outputs": [],
      "source": [
        "loss_function_age = nn.CrossEntropyLoss()\n",
        "optimizer_age = torch.optim.Adam(model_age.parameters(), lr=0.001)"
      ]
    },
    {
      "cell_type": "markdown",
      "metadata": {
        "id": "R4seyZtIKZwz"
      },
      "source": [
        "## **Trening i testowanie**"
      ]
    },
    {
      "cell_type": "code",
      "execution_count": null,
      "metadata": {
        "id": "vyV7fi5Pr7iS"
      },
      "outputs": [],
      "source": [
        "BATCH_SIZE = 80\n",
        "EPOCHS = 200\n",
        "MODELPATHAGE = \"/content/drive/MyDrive/Projekt_Zespołowy/model_age.pth\"\n",
        "\n",
        "targets = []\n",
        "preds = []\n",
        "\n",
        "best_accuracy = 0.0\n",
        "yage_train_hot = torch.Tensor(yage_train_hot)\n",
        "\n",
        "for epoch in range(EPOCHS):\n",
        "    for i in tqdm(range(0, len(Xage_train), BATCH_SIZE)): # from 0, to the len of x, stepping BATCH_SIZE at a time. [:50] ..for now just to dev\n",
        "        batch_Xage = Xage_train[i:i+BATCH_SIZE].view(-1, 1, 200, 200).to(device)\n",
        "        batch_yage = yage_train_hot[i:i+BATCH_SIZE].to(device)\n",
        "        model_age.zero_grad()\n",
        "\n",
        "        outputs_age = model_age(batch_Xage)\n",
        "        loss = loss_function_age(outputs_age, batch_yage)\n",
        "        loss.backward()\n",
        "        optimizer_age.step()    # Does the update\n",
        "\n",
        "    acc = get_accuracy(model_age, Xage_test, yage_test)\n",
        "    print(f\"Epoch: {epoch+1}. Loss: {loss}. Accuracy: {acc}\")\n",
        "\n",
        "    if acc > best_accuracy:\n",
        "      best_accuracy = acc\n",
        "      model_age.to(device)\n",
        "      torch.save(model_age.state_dict(), MODELPATHAGE)\n",
        "\n",
        "    print(best_accuracy)"
      ]
    },
    {
      "cell_type": "markdown",
      "metadata": {
        "id": "wNQZJARRiUKu"
      },
      "source": [
        "# **Zastosowanie modelu**"
      ]
    },
    {
      "cell_type": "code",
      "execution_count": null,
      "metadata": {
        "id": "TK6f-HkCkRCH"
      },
      "outputs": [],
      "source": [
        "def predict(model, image):\n",
        "    with torch.no_grad():\n",
        "        net_out = model(image.to(device).view(-1, 1, 200, 200))[0]  # returns a list,\n",
        "        predicted_class = torch.argmax(net_out)\n",
        "        print('net_out: ', net_out)\n",
        "    return predicted_class.item()"
      ]
    },
    {
      "cell_type": "code",
      "execution_count": null,
      "metadata": {
        "id": "hhRE5T-0mWVV"
      },
      "outputs": [],
      "source": [
        "model_age = ConvolutionalNetwork_age().cuda()\n",
        "model_age.load_state_dict(torch.load('/content/drive/MyDrive/Projekt_Zespołowy/model_age.pth'))"
      ]
    },
    {
      "cell_type": "code",
      "execution_count": null,
      "metadata": {
        "id": "DA6794FcmPrJ"
      },
      "outputs": [],
      "source": [
        "def Example(index):\n",
        "  predicted_age_range = predict(model_age, X[index])\n",
        "  plt.imshow(X[index], cmap=\"Greys_r\")\n",
        "  print(f'Predicted age: {age_dictionary[predicted_age_range]},\\\n",
        "   real age: {age_labels[index]}')"
      ]
    },
    {
      "cell_type": "code",
      "execution_count": null,
      "metadata": {
        "id": "kEGHyJgLyb2t"
      },
      "outputs": [],
      "source": [
        "Example(2211)"
      ]
    }
  ],
  "metadata": {
    "accelerator": "GPU",
    "colab": {
      "provenance": []
    },
    "kernelspec": {
      "display_name": "Python 3",
      "name": "python3"
    },
    "language_info": {
      "name": "python"
    }
  },
  "nbformat": 4,
  "nbformat_minor": 0
}
