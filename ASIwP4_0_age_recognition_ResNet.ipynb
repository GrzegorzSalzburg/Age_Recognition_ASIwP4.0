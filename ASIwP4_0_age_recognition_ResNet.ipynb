{
  "nbformat": 4,
  "nbformat_minor": 0,
  "metadata": {
    "colab": {
      "provenance": [],
      "gpuType": "T4"
    },
    "kernelspec": {
      "name": "python3",
      "display_name": "Python 3"
    },
    "language_info": {
      "name": "python"
    },
    "accelerator": "GPU"
  },
  "cells": [
    {
      "cell_type": "markdown",
      "source": [
        "# **Przygotowanie środowiska**"
      ],
      "metadata": {
        "id": "-OijGOuXvBl5"
      }
    },
    {
      "cell_type": "code",
      "execution_count": null,
      "metadata": {
        "id": "JHgns82Fgnhn"
      },
      "outputs": [],
      "source": [
        "import torch\n",
        "import numpy as np\n",
        "from torch.utils.data import DataLoader, Dataset, random_split\n",
        "from torchvision import transforms, models\n",
        "import torch.nn as nn\n",
        "import torch.optim as optim\n",
        "from tqdm import tqdm\n",
        "from PIL import Image"
      ]
    },
    {
      "cell_type": "code",
      "source": [
        "from google.colab import drive\n",
        "drive.mount('/content/drive')"
      ],
      "metadata": {
        "colab": {
          "base_uri": "https://localhost:8080/"
        },
        "id": "fc7_fKswhY0J",
        "outputId": "aef7199a-a4be-4280-849d-37c8411c8ceb"
      },
      "execution_count": null,
      "outputs": [
        {
          "output_type": "stream",
          "name": "stdout",
          "text": [
            "Mounted at /content/drive\n"
          ]
        }
      ]
    },
    {
      "cell_type": "markdown",
      "source": [
        "# **Przygotowanie danych**"
      ],
      "metadata": {
        "id": "FgsnFkqcws7A"
      }
    },
    {
      "cell_type": "code",
      "source": [
        "X = np.load('/content/drive/MyDrive/finalne_zdjecia.npy')\n",
        "y_age = np.load('/content/drive/MyDrive/finalny_wiek.npy')"
      ],
      "metadata": {
        "id": "Q9kJ7mwYhhF2"
      },
      "execution_count": null,
      "outputs": []
    },
    {
      "cell_type": "code",
      "source": [
        "torch_zdjecia = torch.from_numpy(X)\n",
        "torch_etykiety = torch.from_numpy(y_age)"
      ],
      "metadata": {
        "id": "O0Oj5YRHhjaf"
      },
      "execution_count": null,
      "outputs": []
    },
    {
      "cell_type": "code",
      "source": [
        "# Wykorzystanie Cuda\n",
        "device = torch.device(\"cuda\")\n",
        "zdjecia = torch_zdjecia.to(device)\n",
        "etykiety = torch_etykiety.to(device)\n",
        "\n",
        "\n",
        "# Definiowanie niestandardowego zbioru danych\n",
        "class ZbiorDanych(Dataset):\n",
        "    def __init__(self, zdjecia, etykiety):\n",
        "        self.zdjecia = zdjecia\n",
        "        self.etykiety = etykiety\n",
        "\n",
        "    def __len__(self):\n",
        "        return len(self.zdjecia)\n",
        "\n",
        "    def __getitem__(self, idx):\n",
        "        obraz = self.zdjecia[idx].to(device)\n",
        "        etykieta = self.etykiety[idx].to(device)\n",
        "        return obraz, etykieta\n",
        "\n",
        "#  Przekształcenie etykiet wiekowych\n",
        "def wiek_na_klase(wiek):\n",
        "    if wiek <= 5:\n",
        "        return 0\n",
        "    elif wiek <= 10:\n",
        "        return 1\n",
        "    elif wiek <= 15:\n",
        "        return 2\n",
        "    elif wiek <= 20:\n",
        "        return 3\n",
        "    elif wiek <= 30:\n",
        "        return 4\n",
        "    elif wiek <= 40:\n",
        "        return 5\n",
        "    elif wiek <= 50:\n",
        "        return 6\n",
        "    elif wiek <= 70:\n",
        "        return 7\n",
        "    else:\n",
        "        return 8\n",
        "\n",
        "# Instancja ZbiorDanych\n",
        "przeksztalcone_etykiety = np.array([wiek_na_klase(wiek) for wiek in etykiety])\n",
        "przeksztalcone_etykiety = torch.tensor(przeksztalcone_etykiety, dtype=torch.long).to(device)\n",
        "dataset = ZbiorDanych(zdjecia, przeksztalcone_etykiety)\n",
        "\n",
        "# Podział na zbiory treningowe i testowe\n",
        "rozmiar_testowy = int(0.2 * len(dataset))\n",
        "rozmiar_treningowy = len(dataset) - rozmiar_testowy\n",
        "dataset_treningowy, dataset_testowy = random_split(dataset, [rozmiar_treningowy, rozmiar_testowy])"
      ],
      "metadata": {
        "id": "C8dxspkShmz9"
      },
      "execution_count": null,
      "outputs": []
    },
    {
      "cell_type": "markdown",
      "source": [
        "# **Trenowanie modelu**"
      ],
      "metadata": {
        "id": "73IJVRabyzLi"
      }
    },
    {
      "cell_type": "code",
      "source": [
        "# Ładowanie danych\n",
        "loader_treningowy = DataLoader(dataset_treningowy, batch_size=32, shuffle=True)\n",
        "loader_testowy = DataLoader(dataset_testowy, batch_size=32, shuffle=False)\n",
        "\n",
        "# Ustawienie modelu\n",
        "model = models.resnet34(pretrained=True).to(device)\n",
        "num_ftrs = model.fc.in_features\n",
        "model.fc = nn.Linear(num_ftrs, 9) # liczba_klas\n",
        "model = model.to(device)\n",
        "\n",
        "# Kryteria, optymalizator\n",
        "criterion = nn.CrossEntropyLoss().to(device)\n",
        "optimizer = optim.Adam(model.parameters(), lr=0.001)\n",
        "\n",
        "# Trenowanie modelu\n",
        "def train_model(model, criterion, optimizer, num_epochs=25):\n",
        "    for epoch in range(num_epochs):\n",
        "        model.train()  # Ustawienie modelu na tryb treningowy\n",
        "        running_loss = 0.0\n",
        "\n",
        "        for inputs, labels in loader_treningowy:\n",
        "            inputs, labels = inputs.to(device), labels.to(device)  # Przesyłanie danych na GPU\n",
        "            optimizer.zero_grad()\n",
        "            outputs = model(inputs)\n",
        "            loss = criterion(outputs, labels)\n",
        "            loss.backward()\n",
        "            optimizer.step()\n",
        "            running_loss += loss.item()\n",
        "        print(f'Epoch {epoch}/{num_epochs - 1}, Loss: {running_loss/len(loader_treningowy)}')\n",
        "\n",
        "\n",
        "    return model\n",
        "\n",
        "model = train_model(model, criterion, optimizer, num_epochs=5).to(device)"
      ],
      "metadata": {
        "id": "783gEMO_y5F-"
      },
      "execution_count": null,
      "outputs": []
    },
    {
      "cell_type": "markdown",
      "source": [
        "# **Ocena dokładności**"
      ],
      "metadata": {
        "id": "sNQr2q_ivPQe"
      }
    },
    {
      "cell_type": "code",
      "source": [
        "# Ocena modelu\n",
        "def evaluate_model(model, loader_testowy):\n",
        "    model.eval()\n",
        "    total = 0\n",
        "    correct = 0\n",
        "    with torch.no_grad():\n",
        "        for inputs, labels in loader_testowy:\n",
        "            outputs = model(inputs)\n",
        "            _, predicted = torch.max(outputs.data, 1)\n",
        "            total += labels.size(0)\n",
        "            correct += (predicted == labels).sum().item()\n",
        "    print(f'Accuracy: {100 * correct / total}%')\n",
        "# Ocena modelu na zbiorze testowym\n",
        "evaluate_model(model, loader_testowy)"
      ],
      "metadata": {
        "id": "NBh9_u-rvgYA"
      },
      "execution_count": null,
      "outputs": []
    },
    {
      "cell_type": "markdown",
      "source": [
        "# **Zastosowanie modelu**"
      ],
      "metadata": {
        "id": "x14vIu6q0EqE"
      }
    },
    {
      "cell_type": "code",
      "source": [
        "zdjecie1 = '/content/drive/My Drive/14.jpg'\n",
        "zdjecie2 = '/content/drive/My Drive/26.jpg'\n",
        "zdjecie3 = '/content/drive/My Drive/48.jpg'\n",
        "\n",
        "\n",
        "def modify_image(image_path):\n",
        "  image = Image.open(image_path)\n",
        "  image = image.convert('L')\n",
        "  single_image = np.array(image)\n",
        "  single_image = single_image / 255.0\n",
        "  padding = 12  # (224 - 200) / 2\n",
        "  padded_image = np.pad(single_image, ((padding, padding), (padding, padding)), 'constant', constant_values=1)\n",
        "  image_3_channels = np.repeat(padded_image[:, :, np.newaxis], 3, axis=2)\n",
        "  final_array = np.transpose(image_3_channels, (2, 0, 1))\n",
        "  return torch.tensor(final_array).float()\n",
        "\n",
        "def predict(zdjecie):\n",
        "  model.eval()\n",
        "  with torch.no_grad():\n",
        "      zdjecie = zdjecie.unsqueeze(0)\n",
        "      zdjecie = zdjecie.to(device)\n",
        "      outputs = model(zdjecie)\n",
        "      _, predykcja = torch.max(outputs, 1)\n",
        "  return predykcja\n",
        "\n",
        "test = modify_image(zdjecie3).to(device)\n",
        "test1 = predict(test)\n",
        "print(test1)"
      ],
      "metadata": {
        "id": "yCfTOK5L0LUr"
      },
      "execution_count": null,
      "outputs": []
    }
  ]
}
